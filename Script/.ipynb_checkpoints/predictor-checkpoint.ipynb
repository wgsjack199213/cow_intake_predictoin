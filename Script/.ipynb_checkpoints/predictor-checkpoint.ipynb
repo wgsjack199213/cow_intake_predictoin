{
 "cells": [
  {
   "cell_type": "code",
   "execution_count": 2,
   "metadata": {
    "collapsed": false,
    "deletable": true,
    "editable": true
   },
   "outputs": [],
   "source": [
    "import warnings\n",
    "# Ignore the warnings: https://github.com/jupyter/notebook/issues/2239\n",
    "warnings.filterwarnings(action='ignore')\n",
    "\n",
    "import pandas as pd\n",
    "import numpy as np\n",
    "import matplotlib.pyplot as plt\n",
    "import xgboost as xgb\n",
    "#import scipy\n",
    "import pywt"
   ]
  },
  {
   "cell_type": "code",
   "execution_count": 3,
   "metadata": {
    "collapsed": false,
    "deletable": true,
    "editable": true
   },
   "outputs": [
    {
     "data": {
      "text/html": [
       "<div>\n",
       "<style>\n",
       "    .dataframe thead tr:only-child th {\n",
       "        text-align: right;\n",
       "    }\n",
       "\n",
       "    .dataframe thead th {\n",
       "        text-align: left;\n",
       "    }\n",
       "\n",
       "    .dataframe tbody tr th {\n",
       "        vertical-align: top;\n",
       "    }\n",
       "</style>\n",
       "<table border=\"1\" class=\"dataframe\">\n",
       "  <thead>\n",
       "    <tr style=\"text-align: right;\">\n",
       "      <th></th>\n",
       "      <th>date</th>\n",
       "      <th>cowshed</th>\n",
       "      <th>avg_actual</th>\n",
       "      <th>avg_milk</th>\n",
       "      <th>THI</th>\n",
       "      <th>temp_high</th>\n",
       "      <th>RH</th>\n",
       "      <th>calving_days</th>\n",
       "      <th>calving_indices</th>\n",
       "    </tr>\n",
       "  </thead>\n",
       "  <tbody>\n",
       "    <tr>\n",
       "      <th>0</th>\n",
       "      <td>2017/7/20</td>\n",
       "      <td>B4-3S</td>\n",
       "      <td>40.000000</td>\n",
       "      <td>25.8</td>\n",
       "      <td>34.9576</td>\n",
       "      <td>32</td>\n",
       "      <td>52</td>\n",
       "      <td>283.0</td>\n",
       "      <td>2</td>\n",
       "    </tr>\n",
       "    <tr>\n",
       "      <th>1</th>\n",
       "      <td>2017/7/21</td>\n",
       "      <td>B4-3S</td>\n",
       "      <td>38.333333</td>\n",
       "      <td>25.4</td>\n",
       "      <td>34.9576</td>\n",
       "      <td>32</td>\n",
       "      <td>52</td>\n",
       "      <td>284.0</td>\n",
       "      <td>2</td>\n",
       "    </tr>\n",
       "    <tr>\n",
       "      <th>2</th>\n",
       "      <td>2017/7/22</td>\n",
       "      <td>B4-3S</td>\n",
       "      <td>36.974790</td>\n",
       "      <td>24.0</td>\n",
       "      <td>32.8720</td>\n",
       "      <td>32</td>\n",
       "      <td>40</td>\n",
       "      <td>280.0</td>\n",
       "      <td>2</td>\n",
       "    </tr>\n",
       "    <tr>\n",
       "      <th>3</th>\n",
       "      <td>2017/7/23</td>\n",
       "      <td>B4-3S</td>\n",
       "      <td>36.974790</td>\n",
       "      <td>23.5</td>\n",
       "      <td>35.2840</td>\n",
       "      <td>34</td>\n",
       "      <td>40</td>\n",
       "      <td>281.0</td>\n",
       "      <td>2</td>\n",
       "    </tr>\n",
       "    <tr>\n",
       "      <th>4</th>\n",
       "      <td>2017/7/24</td>\n",
       "      <td>B4-3S</td>\n",
       "      <td>32.773109</td>\n",
       "      <td>24.0</td>\n",
       "      <td>37.6960</td>\n",
       "      <td>36</td>\n",
       "      <td>40</td>\n",
       "      <td>282.0</td>\n",
       "      <td>2</td>\n",
       "    </tr>\n",
       "  </tbody>\n",
       "</table>\n",
       "</div>"
      ],
      "text/plain": [
       "        date cowshed  avg_actual  avg_milk      THI  temp_high  RH  \\\n",
       "0  2017/7/20   B4-3S   40.000000      25.8  34.9576         32  52   \n",
       "1  2017/7/21   B4-3S   38.333333      25.4  34.9576         32  52   \n",
       "2  2017/7/22   B4-3S   36.974790      24.0  32.8720         32  40   \n",
       "3  2017/7/23   B4-3S   36.974790      23.5  35.2840         34  40   \n",
       "4  2017/7/24   B4-3S   32.773109      24.0  37.6960         36  40   \n",
       "\n",
       "   calving_days  calving_indices  \n",
       "0         283.0                2  \n",
       "1         284.0                2  \n",
       "2         280.0                2  \n",
       "3         281.0                2  \n",
       "4         282.0                2  "
      ]
     },
     "execution_count": 3,
     "metadata": {},
     "output_type": "execute_result"
    }
   ],
   "source": [
    "filename = 'input.csv'\n",
    "df = pd.read_csv(filename)\n",
    "\n",
    "df.head()"
   ]
  },
  {
   "cell_type": "code",
   "execution_count": 4,
   "metadata": {
    "collapsed": false,
    "deletable": true,
    "editable": true
   },
   "outputs": [],
   "source": [
    "def predict_last_day(cs, df, clf):\n",
    "    #print cs\n",
    "    \n",
    "    df_cs = df[df['cowshed'] == cs]\n",
    "    df_cs.sort_values(by='date')\n",
    "    df_cs.index = range(len(df_cs))\n",
    "    \n",
    "    # compute THI\n",
    "    df_thi = 0.81 * df_cs['temp_high'] + (0.99 * df_cs['temp_high'] - 14.3) * df_cs['RH'] / 100.0\n",
    "    df_thi = pd.DataFrame(df_thi, columns=['THI'])\n",
    "    df_etl = pd.concat([df_cs, df_thi], axis=1)\n",
    "    \n",
    "    #print df_etl\n",
    "    ws = 4\n",
    "    \n",
    "    index_target = len(df_etl) - 1\n",
    "    index_train_s = index_target - ws\n",
    "    index_train_e = index_target - 1\n",
    "    data_train = df_etl.iloc[index_train_s:index_train_e+1, :]\n",
    "    \n",
    "    X = [df_etl['avg_actual'].iloc[index_train_e]]\n",
    "    \n",
    "    cA, cD = pywt.dwt(data_train['avg_milk'].values, 'db1')\n",
    "    X = np.append(X, list(cA) + list(cD))\n",
    "    X = np.append(X, [df_etl.iloc[index_target]['THI']])\n",
    "    X = np.append(X, df_etl.iloc[index_train_e]['calving_days'])\n",
    "    X = np.append(X, df_etl.iloc[index_train_e]['calving_indices'])\n",
    "    \n",
    "    #print X\n",
    "     \n",
    "    prediction = clf.predict(np.array([X]))[0]\n",
    "    \n",
    "    print cs + ':', + prediction"
   ]
  },
  {
   "cell_type": "code",
   "execution_count": 5,
   "metadata": {
    "collapsed": false,
    "deletable": true,
    "editable": true
   },
   "outputs": [
    {
     "name": "stdout",
     "output_type": "stream",
     "text": [
      "牛舍： B1-7N B4-5N B1-3N B1-5N B1-1S B4-3N B4-3S B1-5S B1-3S B4-7N B4-5S B1-7S \n",
      "B1-7N: 35.4557\n",
      "B4-5N: 37.2822\n",
      "B1-3N: 35.0208\n",
      "B1-5N: 32.648\n",
      "B1-1S: 35.6694\n",
      "B4-3N: 32.8765\n",
      "B4-3S: 32.5096\n",
      "B1-5S: 30.6974\n",
      "B1-3S: 34.4773\n",
      "B4-7N: 38.4609\n",
      "B4-5S: 35.2419\n",
      "B1-7S: 34.8519\n"
     ]
    }
   ],
   "source": [
    "cowsheds = set(df['cowshed'].values)\n",
    "print '牛舍：',\n",
    "for x in cowsheds:\n",
    "    print x,\n",
    "print ''\n",
    "\n",
    "import pickle\n",
    "# Load the model\n",
    "clf = pickle.load(open(\"model.pickle.dat\", \"rb\"))\n",
    "\n",
    "for cs in cowsheds:\n",
    "    predict_last_day(cs, df, clf)\n"
   ]
  },
  {
   "cell_type": "code",
   "execution_count": null,
   "metadata": {
    "collapsed": true,
    "deletable": true,
    "editable": true
   },
   "outputs": [],
   "source": []
  },
  {
   "cell_type": "code",
   "execution_count": null,
   "metadata": {
    "collapsed": true,
    "deletable": true,
    "editable": true
   },
   "outputs": [],
   "source": []
  }
 ],
 "metadata": {
  "kernelspec": {
   "display_name": "Python 2",
   "language": "python",
   "name": "python2"
  },
  "language_info": {
   "codemirror_mode": {
    "name": "ipython",
    "version": 2
   },
   "file_extension": ".py",
   "mimetype": "text/x-python",
   "name": "python",
   "nbconvert_exporter": "python",
   "pygments_lexer": "ipython2",
   "version": "2.7.13"
  }
 },
 "nbformat": 4,
 "nbformat_minor": 2
}
