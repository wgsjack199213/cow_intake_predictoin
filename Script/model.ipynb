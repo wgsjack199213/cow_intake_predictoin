{
 "cells": [
  {
   "cell_type": "markdown",
   "metadata": {
    "deletable": true,
    "editable": true
   },
   "source": [
    "# 模型的构建与实验分析"
   ]
  },
  {
   "cell_type": "code",
   "execution_count": 2,
   "metadata": {
    "collapsed": false,
    "deletable": true,
    "editable": true
   },
   "outputs": [],
   "source": [
    "import warnings\n",
    "# Ignore the warnings: https://github.com/jupyter/notebook/issues/2239\n",
    "warnings.filterwarnings(action='ignore')\n",
    "\n",
    "import pandas as pd\n",
    "import numpy as np\n",
    "import matplotlib.pyplot as plt\n",
    "import xgboost as xgb\n",
    "import scipy\n",
    "import pywt\n",
    "\n",
    "from sklearn.model_selection import KFold, train_test_split, GridSearchCV\n",
    "from sklearn.metrics import confusion_matrix, mean_squared_error, mean_absolute_error, r2_score\n",
    "from sklearn.datasets import load_iris, load_digits, load_boston\n",
    "from sklearn import linear_model"
   ]
  },
  {
   "cell_type": "markdown",
   "metadata": {
    "deletable": true,
    "editable": true
   },
   "source": [
    "导入数据集"
   ]
  },
  {
   "cell_type": "code",
   "execution_count": 3,
   "metadata": {
    "collapsed": false,
    "deletable": true,
    "editable": true
   },
   "outputs": [
    {
     "data": {
      "text/html": [
       "<div>\n",
       "<style>\n",
       "    .dataframe thead tr:only-child th {\n",
       "        text-align: right;\n",
       "    }\n",
       "\n",
       "    .dataframe thead th {\n",
       "        text-align: left;\n",
       "    }\n",
       "\n",
       "    .dataframe tbody tr th {\n",
       "        vertical-align: top;\n",
       "    }\n",
       "</style>\n",
       "<table border=\"1\" class=\"dataframe\">\n",
       "  <thead>\n",
       "    <tr style=\"text-align: right;\">\n",
       "      <th></th>\n",
       "      <th>date</th>\n",
       "      <th>cowshed</th>\n",
       "      <th>avg_actual</th>\n",
       "      <th>avg_milk</th>\n",
       "      <th>THI</th>\n",
       "      <th>calving_days</th>\n",
       "      <th>calving_indices</th>\n",
       "    </tr>\n",
       "  </thead>\n",
       "  <tbody>\n",
       "    <tr>\n",
       "      <th>0</th>\n",
       "      <td>2017-3-5</td>\n",
       "      <td>B4-3S</td>\n",
       "      <td>40.361446</td>\n",
       "      <td>26.7</td>\n",
       "      <td>9.2360</td>\n",
       "      <td>154.5</td>\n",
       "      <td>2.0</td>\n",
       "    </tr>\n",
       "    <tr>\n",
       "      <th>1</th>\n",
       "      <td>2017-3-6</td>\n",
       "      <td>B4-3S</td>\n",
       "      <td>38.253012</td>\n",
       "      <td>26.1</td>\n",
       "      <td>9.4780</td>\n",
       "      <td>153.0</td>\n",
       "      <td>2.0</td>\n",
       "    </tr>\n",
       "    <tr>\n",
       "      <th>2</th>\n",
       "      <td>2017-3-7</td>\n",
       "      <td>B4-3S</td>\n",
       "      <td>39.644970</td>\n",
       "      <td>26.6</td>\n",
       "      <td>9.4054</td>\n",
       "      <td>154.0</td>\n",
       "      <td>2.0</td>\n",
       "    </tr>\n",
       "    <tr>\n",
       "      <th>3</th>\n",
       "      <td>2017-3-8</td>\n",
       "      <td>B4-3S</td>\n",
       "      <td>38.961039</td>\n",
       "      <td>27.3</td>\n",
       "      <td>9.4054</td>\n",
       "      <td>158.0</td>\n",
       "      <td>2.0</td>\n",
       "    </tr>\n",
       "    <tr>\n",
       "      <th>4</th>\n",
       "      <td>2017-3-9</td>\n",
       "      <td>B4-3S</td>\n",
       "      <td>38.260870</td>\n",
       "      <td>27.0</td>\n",
       "      <td>10.2440</td>\n",
       "      <td>147.0</td>\n",
       "      <td>2.0</td>\n",
       "    </tr>\n",
       "  </tbody>\n",
       "</table>\n",
       "</div>"
      ],
      "text/plain": [
       "       date cowshed  avg_actual  avg_milk      THI  calving_days  \\\n",
       "0  2017-3-5   B4-3S   40.361446      26.7   9.2360         154.5   \n",
       "1  2017-3-6   B4-3S   38.253012      26.1   9.4780         153.0   \n",
       "2  2017-3-7   B4-3S   39.644970      26.6   9.4054         154.0   \n",
       "3  2017-3-8   B4-3S   38.961039      27.3   9.4054         158.0   \n",
       "4  2017-3-9   B4-3S   38.260870      27.0  10.2440         147.0   \n",
       "\n",
       "   calving_indices  \n",
       "0              2.0  \n",
       "1              2.0  \n",
       "2              2.0  \n",
       "3              2.0  \n",
       "4              2.0  "
      ]
     },
     "execution_count": 3,
     "metadata": {},
     "output_type": "execute_result"
    }
   ],
   "source": [
    "df_dataset = pd.read_csv('data_output_0305_0725.csv', index_col=0)\n",
    "df_dataset.index = range(len(df_dataset))\n",
    "df_dataset.head()"
   ]
  },
  {
   "cell_type": "markdown",
   "metadata": {
    "deletable": true,
    "editable": true
   },
   "source": [
    "## 数据集预处理\n",
    "\n",
    "根据不同的建模方式，进行特征处理，构造数据集。"
   ]
  },
  {
   "cell_type": "code",
   "execution_count": 4,
   "metadata": {
    "collapsed": false,
    "deletable": true,
    "editable": true
   },
   "outputs": [],
   "source": [
    "pd.set_option('display.max_rows', 100)\n",
    "# fields：希望使用的特征构成的list\n",
    "# ws：window size，是回顾历史的天数（含当天）\n",
    "# dwt：为True时，采用离散小波变换的方式，而不是直接拼接的方式，处理多日的头均采食量序列数据。\n",
    "def construct_dataset(df_dataset, fields, ws=1, dwt=False):\n",
    "    samples_X = []\n",
    "    samples_y = []\n",
    "    \n",
    "    #dataset = df_dataset.values\n",
    "    ws_with_target = ws + 1\n",
    "    length = len(df_dataset)\n",
    "    \n",
    "    # 对照组的误差。对照组采用最简单直接的策略，以当天的头均采食量直接作为第二天头均采食量的预测值。\n",
    "    naive_errors = []\n",
    "    \n",
    "    for k in xrange(length + 1 - ws_with_target):\n",
    "        #print 'k:', k\n",
    "        index_train_s = k\n",
    "        index_train_e = k + ws_with_target - 2\n",
    "        index_target = index_train_e + 1\n",
    "        \n",
    "        data_train = df_dataset.iloc[index_train_s:index_train_e+1, :]\n",
    "        data_all = df_dataset.iloc[index_train_s:index_target+1, :]\n",
    "        y = df_dataset.iloc[index_target]['avg_actual']\n",
    "        \n",
    "        # The selected lines should correspond to the same cowshed.\n",
    "        if not len(data_all['cowshed'].value_counts()) == 1:\n",
    "            continue\n",
    "\n",
    "        # Neglect incomplete data\n",
    "        if pd.isnull(df_dataset.loc[index_train_s:index_target, ['avg_actual', 'avg_milk', 'THI', 'calving_days', 'calving_indices']].values).sum() > 0:\n",
    "            #print k, df_dataset.loc[index_train_s:index_target]\n",
    "            continue\n",
    "            \n",
    "        # Compute naive errors\n",
    "        if df_dataset.loc[k]['cowshed'] == df_dataset.loc[k+1]['cowshed']:\n",
    "            error = df_dataset.loc[k+1]['avg_actual'] - df_dataset.loc[k]['avg_actual']\n",
    "            if not np.isnan(error):\n",
    "                naive_errors.append(error)\n",
    "            \n",
    "        X = np.array([])\n",
    "    \n",
    "        # We individually handle each feature\n",
    "        # You can freely modify the logic of feature construction\n",
    "        #print data_all\n",
    "        if 'avg_actual' in fields:\n",
    "            if not dwt:\n",
    "                # Either consider only 1 day or consider more days\n",
    "                #X = np.append(X, data_train['avg_actual'].values)\n",
    "                X = np.append(X, df_dataset.iloc[index_train_e]['avg_actual'])\n",
    "            else:\n",
    "                X = np.append(X, df_dataset.iloc[index_train_e]['avg_actual'])\n",
    "                \n",
    "                cA, cD = pywt.dwt(data_train['avg_actual'].values, 'db1')\n",
    "                cA2, cD2 = pywt.dwt(cA, 'db1')\n",
    "                #X = np.append(X, list(cA) + list(cD)) # 1-level DWT.\n",
    "                #X = np.append(X, list(cA2) + list(cD2) + list(cD)) # 2-level DWT. only used when ws=4*m where m is an arbitrary integer\n",
    "        if 'avg_milk' in fields:\n",
    "            if not dwt:\n",
    "                # Either consider more days or 1 day\n",
    "                #X = np.append(X, data_train['avg_milk'].values)\n",
    "                X = np.append(X, df_dataset.iloc[index_train_e]['avg_milk'])\n",
    "            else:\n",
    "                X = np.append(X, df_dataset.iloc[index_train_e]['avg_milk'])\n",
    "                \n",
    "                cA, cD = pywt.dwt(data_train['avg_milk'].values, 'db1')\n",
    "                cA2, cD2 = pywt.dwt(cA, 'db1')\n",
    "                X = np.append(X, list(cA) + list(cD)) # 1-level DWT.\n",
    "                #X = np.append(X, list(cA2) + list(cD2) + list(cD)) # 2-level DWT. only used when ws=4*m where m is an arbitrary integer\n",
    "\n",
    "        if 'THI' in fields:\n",
    "            X = np.append(X, [df_dataset.iloc[index_target]['THI']]) # Note that we can know the THI of the next day\n",
    "        if 'calving_days' in fields:\n",
    "            X = np.append(X, df_dataset.iloc[index_train_e]['calving_days'])\n",
    "        if 'calving_indices' in fields:\n",
    "            X = np.append(X, df_dataset.iloc[index_train_e]['calving_indices'])\n",
    "        \n",
    "        #print X\n",
    "        samples_X.append(X)\n",
    "        samples_y.append(y)\n",
    "    \n",
    "    print 'Naive MAE:', np.mean(np.abs(naive_errors))\n",
    "    print 'Number of samples:', len(samples_X), len(samples_y)\n",
    "    print 'Number of features', len(samples_X[0])\n",
    "    \n",
    "    return np.array(samples_X), np.array(samples_y)"
   ]
  },
  {
   "cell_type": "markdown",
   "metadata": {
    "collapsed": true,
    "deletable": true,
    "editable": true
   },
   "source": [
    "## 模型训练和预测"
   ]
  },
  {
   "cell_type": "markdown",
   "metadata": {
    "deletable": true,
    "editable": true
   },
   "source": [
    "定义函数实现8折交叉验证，返回在训练集和测试集上的MAE（平均绝对误差）。"
   ]
  },
  {
   "cell_type": "code",
   "execution_count": 5,
   "metadata": {
    "collapsed": false,
    "deletable": true,
    "editable": true
   },
   "outputs": [],
   "source": [
    "def regression(X, y, MAX_DEPTH=2, N_TREE=150, plot=False):\n",
    "    #print 'Paras - max_depth, n_enumerators:',\n",
    "    print (MAX_DEPTH, N_TREE),\n",
    "    maes = [] # Mean Absolute Errors on the test set\n",
    "    maes_on_train = []\n",
    "    \n",
    "    # The seed of the random number generator.\n",
    "    # You can randomly choose it.\n",
    "    # It is used for consistent replay of the experiments\n",
    "    rng = np.random.RandomState(337)\n",
    "    \n",
    "    # 8-folded cross-validation\n",
    "    kf = KFold(n_splits=8, shuffle=True, random_state=rng)\n",
    "    \n",
    "    for train_index, test_index in kf.split(X):\n",
    "        clf = xgb.XGBRegressor(booster='gbtree', n_estimators=N_TREE, max_depth=MAX_DEPTH)\n",
    "        xgb_model = clf.fit(X[train_index],y[train_index])\n",
    "\n",
    "        pred_on_train = xgb_model.predict(X[train_index])\n",
    "        MAE_on_train = mean_absolute_error(y[train_index], pred_on_train)\n",
    "        maes_on_train.append(MAE_on_train)\n",
    "        MRE_on_train = np.mean((np.abs(pred_on_train-y[train_index])) / y[train_index])\n",
    "        R2_on_train = r2_score(pred_on_train, y[train_index])\n",
    "        #print 'Train_MAE:', MAE_on_train,\n",
    "        #print 'Train_MRE:', MRE_on_train,\n",
    "        #print 'R^2:', R2_on_train\n",
    "\n",
    "        predictions = xgb_model.predict(X[test_index])\n",
    "        actuals = y[test_index]\n",
    "\n",
    "        mae = mean_absolute_error(actuals, predictions)\n",
    "        maes.append(mae)\n",
    "        #print 'MAE:', mae,\n",
    "        #print 'MRE:', np.mean((np.abs(predictions-actuals)) / actuals),\n",
    "        #print 'R^2:', r2_score(actuals, predictions)\n",
    "        \n",
    "        if plot:\n",
    "            errors = []\n",
    "            for k in range(len(actuals)):\n",
    "                errors.append(predictions[k] - actuals[k])\n",
    "                \n",
    "            print 'MAE:', np.mean(np.abs(errors))\n",
    "            print 'std:', np.std(errors)\n",
    "            #print '>1.5:', np.sum(np.array(errors) > 1.5), len(errors)\n",
    "            #print '>3:', np.sum(np.array(errors) > 3), len(errors)\n",
    "            plt.cla()\n",
    "            plt.hist(errors, bins=100)\n",
    "            plt.axvline(x=np.mean(np.abs(errors)), color='r', lw=1, ls='--', label='MAE')\n",
    "            plt.axvline(x=1.1590, color='orange', lw=1, ls='--', label='control group MAE')\n",
    "            plt.xlabel('Error (predicted value - actual value)')\n",
    "            plt.title('Mean Absolute Error')\n",
    "            plt.legend()\n",
    "            plt.show()\n",
    "\n",
    "            #plot_trees(xgb_model)\n",
    "            xgb.plot_importance(xgb_model)\n",
    "            plt.show()\n",
    "            break  # 如果绘图的话，可不跑完所有交叉验证，只跑其中的一次实验，作为样例观察误差分布图像\n",
    "    \n",
    "    \n",
    "    if plot:\n",
    "        print '======================================='\n",
    "        print 'average Train_mae', np.mean(maes_on_train)\n",
    "        print 'average mae:', np.mean(maes)\n",
    "        \n",
    "    return np.mean(maes_on_train), np.mean(maes)\n"
   ]
  },
  {
   "cell_type": "code",
   "execution_count": 6,
   "metadata": {
    "collapsed": false,
    "deletable": true,
    "editable": true
   },
   "outputs": [],
   "source": [
    "# Try various combinations of model parameters\n",
    "def regression_GS(X, y):\n",
    "    print '=========== Start regression with grid-searching the parameter space ==========='\n",
    "    depths = [1, 2, 3, 4, 5]\n",
    "    n_trees = [75, 100, 150, 200, 250, 300]\n",
    "    result = []  # result stores the MAE on the training data and the test data for each run of cross-validation experiments\n",
    "    \n",
    "    for depth in depths:\n",
    "        MAX_DEPTH = depth\n",
    "        tmp = []\n",
    "        for n_tree in n_trees:\n",
    "            N_TREE = n_tree\n",
    "\n",
    "            mae_train, mae = regression(X, y, MAX_DEPTH, N_TREE)\n",
    "            tmp.append([mae_train, mae])\n",
    "    \n",
    "        result.append(tmp)\n",
    "    \n",
    "    # Generate codes for LaTeX table\n",
    "    print \"\\hline\"\n",
    "    print \"& \\multicolumn{\" + str(len(n_trees)) + \"}{|c|}{n\\_enumerators} \\\\\\\\ \\cline{2-\" + str(len(n_trees) + 1) + \"}\"\n",
    "    print \"max\\_depth & \" + \" & \".join([str(x) for x in n_trees]) +  \"\\\\\\\\\"\n",
    "    print \"\\hline\"\n",
    "\n",
    "    for k, row in enumerate(result):\n",
    "        print depths[k],\n",
    "        for i, col in enumerate(row):\n",
    "            print '&', str(round(col[0], 4)) + '/' + str(round(col[1], 4)),\n",
    "        print \"\\\\\\\\\"\n",
    "    print \"\\hline\"\n",
    "    return min(np.ndarray.flatten(np.array([[col[1] for col in row] for row in result])))"
   ]
  },
  {
   "cell_type": "markdown",
   "metadata": {
    "deletable": true,
    "editable": true
   },
   "source": [
    "计算得到特征处理后的样本集：X，y。其中X是输入变量，y是输出变量，即预测目标值（第二天的头均采食量）。"
   ]
  },
  {
   "cell_type": "code",
   "execution_count": 7,
   "metadata": {
    "collapsed": false,
    "deletable": true,
    "editable": true
   },
   "outputs": [
    {
     "name": "stdout",
     "output_type": "stream",
     "text": [
      "Naive MAE: 1.14486397451\n",
      "Number of samples: 1897 1897\n",
      "Number of features 9\n"
     ]
    }
   ],
   "source": [
    "fields = ['avg_actual', 'avg_milk', 'THI', 'calving_days', 'calving_indices']\n",
    "X, y = construct_dataset(df_dataset, fields, ws=4, dwt=True)"
   ]
  },
  {
   "cell_type": "markdown",
   "metadata": {
    "deletable": true,
    "editable": true
   },
   "source": [
    "导出训练好的模型为文件："
   ]
  },
  {
   "cell_type": "code",
   "execution_count": 8,
   "metadata": {
    "collapsed": false,
    "deletable": true,
    "editable": true
   },
   "outputs": [
    {
     "name": "stdout",
     "output_type": "stream",
     "text": [
      "XGBRegressor(base_score=0.5, booster='gbtree', colsample_bylevel=1,\n",
      "       colsample_bytree=1, gamma=0, learning_rate=0.1, max_delta_step=0,\n",
      "       max_depth=4, min_child_weight=1, missing=None, n_estimators=100,\n",
      "       n_jobs=1, nthread=None, objective='reg:linear', random_state=0,\n",
      "       reg_alpha=0, reg_lambda=1, scale_pos_weight=1, seed=None,\n",
      "       silent=True, subsample=1)\n"
     ]
    }
   ],
   "source": [
    "import pickle\n",
    "\n",
    "# Save the model\n",
    "clf = xgb.XGBRegressor(booster='gbtree', n_estimators=100, max_depth=4)\n",
    "xgb_model = clf.fit(X, y)\n",
    "print xgb_model\n",
    "pickle.dump(xgb_model, open(\"model.pickle.dat\", \"wb\"))\n",
    "\n",
    "# Load the model\n",
    "clf = pickle.load(open(\"model.pickle.dat\", \"rb\"))"
   ]
  },
  {
   "cell_type": "markdown",
   "metadata": {
    "deletable": true,
    "editable": true
   },
   "source": [
    "调用regression函数对参数空间进行枚举搜索，探索使预测性能最优的参数配置。"
   ]
  },
  {
   "cell_type": "code",
   "execution_count": 9,
   "metadata": {
    "collapsed": false,
    "deletable": true,
    "editable": true
   },
   "outputs": [
    {
     "name": "stdout",
     "output_type": "stream",
     "text": [
      "=========== Start regression with grid-searching the parameter space ===========\n",
      "(1, 75) (1, 100) (1, 150) (1, 200) (1, 250) (1, 300) (2, 75) (2, 100) (2, 150) (2, 200) (2, 250) (2, 300) (3, 75) (3, 100) (3, 150) (3, 200) (3, 250) (3, 300) (4, 75) (4, 100) (4, 150) (4, 200) (4, 250) (4, 300) (5, 75) (5, 100) (5, 150) (5, 200) (5, 250) (5, 300) \\hline\n",
      "& \\multicolumn{6}{|c|}{n\\_enumerators} \\\\ \\cline{2-7}\n",
      "max\\_depth & 75 & 100 & 150 & 200 & 250 & 300\\\\\n",
      "\\hline\n",
      "1 & 1.1048/1.1484 & 1.0839/1.1333 & 1.0639/1.1217 & 1.0532/1.1158 & 1.047/1.1138 & 1.0425/1.1123 \\\\\n",
      "2 & 1.027/1.1041 & 1.0059/1.0982 & 0.9747/1.0931 & 0.9499/1.0925 & 0.9284/1.0926 & 0.9094/1.0953 \\\\\n",
      "3 & 0.9544/1.0892 & 0.9233/1.0856 & 0.8686/1.0875 & 0.8209/1.0903 & 0.7818/1.0953 & 0.7452/1.1013 \\\\\n",
      "4 & 0.8731/1.079 & 0.8246/1.0788 & 0.7413/1.0849 & 0.6702/1.0906 & 0.6122/1.0976 & 0.5576/1.1024 \\\\\n",
      "5 & 0.7812/1.0858 & 0.7131/1.0881 & 0.6014/1.0985 & 0.5085/1.1049 & 0.4325/1.1154 & 0.372/1.1231 \\\\\n",
      "\\hline\n",
      "1.07876371651\n"
     ]
    }
   ],
   "source": [
    "print regression_GS(np.array(X), np.array(y))"
   ]
  },
  {
   "cell_type": "markdown",
   "metadata": {
    "deletable": true,
    "editable": true
   },
   "source": [
    "给定参数配置，绘制图像观察绝对误差的分布情况，以及不同特征的重要程度。"
   ]
  },
  {
   "cell_type": "code",
   "execution_count": 10,
   "metadata": {
    "collapsed": false,
    "deletable": true,
    "editable": true
   },
   "outputs": [
    {
     "name": "stdout",
     "output_type": "stream",
     "text": [
      "(4, 100) MAE: 1.09974406338\n",
      "std: 1.44466110887\n"
     ]
    },
    {
     "data": {
      "image/png": "[encoded data removed]",
      "text/plain": [
       "<matplotlib.figure.Figure at 0x10b5dd7d0>"
      ]
     },
     "metadata": {},
     "output_type": "display_data"
    },
    {
     "data": {
      "image/png": "[encoded data removed]",
      "text/plain": [
       "<matplotlib.figure.Figure at 0x10bb47250>"
      ]
     },
     "metadata": {},
     "output_type": "display_data"
    },
    {
     "name": "stdout",
     "output_type": "stream",
     "text": [
      "=======================================\n",
      "average Train_mae 0.814691119199\n",
      "average mae: 1.09974406338\n"
     ]
    },
    {
     "data": {
      "text/plain": [
       "(0.81469111919906112, 1.0997440633767905)"
      ]
     },
     "execution_count": 10,
     "metadata": {},
     "output_type": "execute_result"
    }
   ],
   "source": [
    "regression(X, y, MAX_DEPTH=4, N_TREE=100, plot=True)"
   ]
  },
  {
   "cell_type": "code",
   "execution_count": null,
   "metadata": {
    "collapsed": true,
    "deletable": true,
    "editable": true
   },
   "outputs": [],
   "source": []
  }
 ],
 "metadata": {
  "kernelspec": {
   "display_name": "Python 2",
   "language": "python",
   "name": "python2"
  },
  "language_info": {
   "codemirror_mode": {
    "name": "ipython",
    "version": 2
   },
   "file_extension": ".py",
   "mimetype": "text/x-python",
   "name": "python",
   "nbconvert_exporter": "python",
   "pygments_lexer": "ipython2",
   "version": "2.7.13"
  }
 },
 "nbformat": 4,
 "nbformat_minor": 2
}
